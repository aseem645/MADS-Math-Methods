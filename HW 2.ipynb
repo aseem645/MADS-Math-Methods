{
 "cells": [
  {
   "cell_type": "markdown",
   "metadata": {
    "deletable": false,
    "editable": false,
    "nbgrader": {
     "checksum": "a57e20374ed702d76f2848c87f85de56",
     "grade": false,
     "grade_id": "cell-a2d42e109d5a4446",
     "locked": true,
     "schema_version": 1,
     "solution": false
    }
   },
   "source": [
    "# SIDAS502: Math Methods for Data Science \n",
    "\n",
    "\n",
    "# School of Information, University of Michigan\n",
    "\n",
    "\n",
    "## Week2: Eigenvalue/Eigenvector/Linear Trasformation\n",
    "\n",
    "### Version 1.2\n",
    "\n",
    "This assignment is designed to demonstrate basic linear algebra and computational properties of matrices through identifying linearity across vectors, using row reduction to calculate eigenvalues and eigenvectors. Please read the directions carefully, as we want to avoid submissions that are marked incorrect due to formatting mistakes. You will be using sympy, numpy, and scipy for this assignment. \n",
    "\n",
    "Ensure that the following code is present at the beginning of your assignment:\n",
    "- from sympy import *\n",
    "- import numpy as np\n",
    "- from scipy import linalg\n"
   ]
  },
  {
   "cell_type": "markdown",
   "metadata": {},
   "source": [
    "Please enter your name: \"Aseem Sachdeva\""
   ]
  },
  {
   "cell_type": "markdown",
   "metadata": {
    "deletable": false,
    "editable": false,
    "nbgrader": {
     "checksum": "d96789f7c9ed2ca81bdb13109c855b98",
     "grade": false,
     "grade_id": "cell-2ec3375c714bff40",
     "locked": true,
     "schema_version": 1,
     "solution": false
    }
   },
   "source": [
    "## Part 1: Linearity\n"
   ]
  },
  {
   "cell_type": "markdown",
   "metadata": {
    "deletable": false,
    "editable": false,
    "nbgrader": {
     "checksum": "40baad6faa53a8fbc5eb44d149e25fe2",
     "grade": false,
     "grade_id": "cell-34ab2f1da94f850b",
     "locked": true,
     "schema_version": 1,
     "solution": false
    }
   },
   "source": [
    "<b>1.0</b> In this section, we will be determining if a set of vectors are linearly independent (if they are not, then they are linearly dependent). Decide whether each subset of R^3 is linearly dependent or linearly independent. \n",
    "\n",
    "    (1) v1=[-1,3,4],v2=[6,-2,9],v3=[3,8,5] \n",
    "    (2) v1=[4,3,3],v2=[6,3,3],v3=[9,3,3] \n",
    "    (3) v1=[0,0,-4],v2=[1,-2,9],v3=[3,8,5] \n",
    "    (4) v1=[-1,3,6],v2=[6,0,9],v3=[1,8,5]\n",
    "    \n"
   ]
  },
  {
   "cell_type": "code",
   "execution_count": 51,
   "metadata": {},
   "outputs": [],
   "source": [
    "import sympy\n",
    "from sympy import *\n",
    "import numpy as np\n",
    "from scipy import linalg"
   ]
  },
  {
   "cell_type": "markdown",
   "metadata": {
    "deletable": false,
    "editable": false,
    "nbgrader": {
     "checksum": "54d880744259705dfe19e50cb34cb25e",
     "grade": false,
     "grade_id": "cell-1b3452e8f5584c8a",
     "locked": true,
     "schema_version": 1,
     "solution": false
    }
   },
   "source": [
    "<strong>1.1</strong> \\[1 pt\\] Using the first set of vectors from (1.0), determine if the vector is linearly independent. Show your work and store your answer \"yes\" or \"no\" in a variable called \"<strong>linear1</strong>\"."
   ]
  },
  {
   "cell_type": "code",
   "execution_count": 52,
   "metadata": {
    "deletable": false,
    "nbgrader": {
     "checksum": "107e760c2fcfd8ede4bf69ec4d8b73ac",
     "grade": false,
     "grade_id": "cell-411ec698d9ae862d",
     "locked": false,
     "schema_version": 1,
     "solution": true
    }
   },
   "outputs": [],
   "source": [
    "v1=np.array([-1,3,4])\n",
    "v2=np.array([6,-2,9])\n",
    "v3=np.array([3,8,5])\n",
    "linear1=\"yes\"\n",
    "\n",
    "independent_or_dependent = np.row_stack([v1, v2, v3])\n",
    "\n",
    "yes_or_no = sympy.Matrix(independent_or_dependent).T.rref()\n",
    "\n",
    "\n",
    "\n",
    "#raise NotImplementedError()"
   ]
  },
  {
   "cell_type": "code",
   "execution_count": 53,
   "metadata": {
    "deletable": false,
    "editable": false,
    "nbgrader": {
     "checksum": "eaef6ad6ec0acf423c3d79880303cb99",
     "grade": true,
     "grade_id": "cell-45a28a1ab4ac003c",
     "locked": true,
     "points": 1,
     "schema_version": 1,
     "solution": false
    }
   },
   "outputs": [],
   "source": [
    "assert linear1.strip().lower() == \"yes\" or \"no\", \"Problem 1.1, testing linear1, value was not 'yes' or 'no'. Please choose 'yes' or 'no' as your answer.\""
   ]
  },
  {
   "cell_type": "markdown",
   "metadata": {
    "deletable": false,
    "editable": false,
    "nbgrader": {
     "checksum": "a60006fcc4069f2452499be58fc671d1",
     "grade": false,
     "grade_id": "cell-d8dee39f31ad0c14",
     "locked": true,
     "schema_version": 1,
     "solution": false
    }
   },
   "source": [
    "<strong>1.2</strong> \\[1 pt\\] Using the second set of vectors from (1.0), determine if the vector is linearly independent. Show your work and store your answer \"yes\" or \"no\" in a variable called \"<strong>linear2</strong>\"."
   ]
  },
  {
   "cell_type": "code",
   "execution_count": 54,
   "metadata": {
    "deletable": false,
    "nbgrader": {
     "checksum": "3e2afe8677193b0ef8971c221b8140fb",
     "grade": false,
     "grade_id": "cell-9437cf7256c37d72",
     "locked": false,
     "schema_version": 1,
     "solution": true
    }
   },
   "outputs": [],
   "source": [
    "v1=np.array([4,3,3])\n",
    "v2=np.array([6,3,3])\n",
    "v3=np.array([9,3,3])\n",
    "linear2=\"no\"\n",
    "\n",
    "independent_or_dependent = np.row_stack([v1, v2, v3])\n",
    "\n",
    "yes_or_no = sympy.Matrix(independent_or_dependent).T.rref()\n",
    "\n",
    "\n",
    "\n",
    "#raise NotImplementedError()\n"
   ]
  },
  {
   "cell_type": "code",
   "execution_count": 55,
   "metadata": {
    "deletable": false,
    "editable": false,
    "nbgrader": {
     "checksum": "0099acc1a4ad92260d6ab292202950aa",
     "grade": true,
     "grade_id": "cell-158e70c4cabaca4d",
     "locked": true,
     "points": 1,
     "schema_version": 1,
     "solution": false
    }
   },
   "outputs": [],
   "source": [
    "assert linear2.strip().lower() == \"yes\" or \"no\", \"Problem 1.2, testing linear2, value was not 'yes' or 'no'. Please choose 'yes' or 'no' as your answer.\""
   ]
  },
  {
   "cell_type": "markdown",
   "metadata": {
    "deletable": false,
    "editable": false,
    "nbgrader": {
     "checksum": "d8df476bf229609d51db17a8f3e3e804",
     "grade": false,
     "grade_id": "cell-ce5dcd32393db2e4",
     "locked": true,
     "schema_version": 1,
     "solution": false
    }
   },
   "source": [
    "<strong>1.3</strong> \\[1 pt\\] Using the third set of vectors from (1.0), determine if the vector is linearly independent. Show your work and store your answer \"yes\" or \"no\" in a variable called \"<strong>linear3</strong>\"."
   ]
  },
  {
   "cell_type": "code",
   "execution_count": 56,
   "metadata": {
    "deletable": false,
    "nbgrader": {
     "checksum": "ef8bfef8e2955870d1aa75ec177de5d2",
     "grade": false,
     "grade_id": "cell-d68d4ff3c19a01a9",
     "locked": false,
     "schema_version": 1,
     "solution": true
    }
   },
   "outputs": [],
   "source": [
    "v1=np.array([-1,3,6])\n",
    "v2=np.array([6,0,9])\n",
    "v3=np.array([1,8,5])\n",
    "linear3=\"yes\"\n",
    "\n",
    "independent_or_dependent = np.row_stack([v1, v2, v3])\n",
    "\n",
    "yes_or_no = sympy.Matrix(independent_or_dependent).T.rref()\n",
    "\n",
    "\n",
    "\n",
    "#raise NotImplementedError()"
   ]
  },
  {
   "cell_type": "code",
   "execution_count": 57,
   "metadata": {
    "deletable": false,
    "editable": false,
    "nbgrader": {
     "checksum": "949b00c1ddc9ecd217b7b15c26afa8b5",
     "grade": true,
     "grade_id": "cell-1b83b01be1cc2c58",
     "locked": true,
     "points": 1,
     "schema_version": 1,
     "solution": false
    }
   },
   "outputs": [],
   "source": [
    "assert linear3.strip().lower() == \"yes\" or \"no\", \"Problem 1.3, testing linear3, value was not 'yes' or 'no'. Please choose 'yes' or 'no' as your answer.\""
   ]
  },
  {
   "cell_type": "markdown",
   "metadata": {
    "deletable": false,
    "editable": false,
    "nbgrader": {
     "checksum": "3d30d5032492695654a406426a5fb136",
     "grade": false,
     "grade_id": "cell-bfd6349bb0287360",
     "locked": true,
     "schema_version": 1,
     "solution": false
    }
   },
   "source": [
    "<strong>1.4</strong> \\[1 pt\\] Using the fourth set of vectors from (1.0), determine if the vector is linearly independent. Show your work and store your answer \"yes\" or \"no\" in a variable called \"<strong>linear4</strong>\"."
   ]
  },
  {
   "cell_type": "code",
   "execution_count": 58,
   "metadata": {
    "deletable": false,
    "nbgrader": {
     "checksum": "9576c9714becce22412638b9115b8952",
     "grade": false,
     "grade_id": "cell-61d118295bb6a565",
     "locked": false,
     "schema_version": 1,
     "solution": true
    }
   },
   "outputs": [],
   "source": [
    "v1=np.array([0,0,-4])\n",
    "v2=np.array([1,-2,9])\n",
    "v3=np.array([3,8,5])\n",
    "linear4=\"yes\"\n",
    "\n",
    "independent_or_dependent = np.row_stack([v1, v2, v3])\n",
    "\n",
    "yes_or_no = sympy.Matrix(independent_or_dependent).T.rref()\n",
    "\n",
    "\n",
    "\n",
    "\n",
    "\n",
    "#raise NotImplementedError()"
   ]
  },
  {
   "cell_type": "code",
   "execution_count": 59,
   "metadata": {
    "deletable": false,
    "editable": false,
    "nbgrader": {
     "checksum": "a9da44e4b2f82a89dfc19f6fc05e4e70",
     "grade": true,
     "grade_id": "cell-0fa75c395d30704c",
     "locked": true,
     "points": 1,
     "schema_version": 1,
     "solution": false
    }
   },
   "outputs": [],
   "source": [
    "assert linear4.strip().lower() == \"yes\" or \"no\", \"Problem 1.4, testing linear4, value was not 'yes' or 'no'. Please choose 'yes' or 'no' as your answer.\""
   ]
  },
  {
   "cell_type": "markdown",
   "metadata": {
    "deletable": false,
    "editable": false,
    "nbgrader": {
     "checksum": "f5397ac573f8e4b248539167e6d1a9c9",
     "grade": false,
     "grade_id": "cell-3d39e13d4a7cc44b",
     "locked": true,
     "schema_version": 1,
     "solution": false
    }
   },
   "source": [
    "## Part 2: Eigenvalue/ Eigenvector\n"
   ]
  },
  {
   "cell_type": "markdown",
   "metadata": {
    "deletable": false,
    "editable": false,
    "nbgrader": {
     "checksum": "55be2af81982834cd8b77a85662522ae",
     "grade": false,
     "grade_id": "cell-40704c107a135552",
     "locked": true,
     "schema_version": 1,
     "solution": false
    }
   },
   "source": [
    "<strong>2.1</strong> \\[1 pt\\] What is the eigenvalue and eigenvectors of the matrix[[1,3],[2,5]]? Please store the eigenvalues in the variable called <strong>vals</strong>. The datatype for vals should be an array.\n",
    "\n"
   ]
  },
  {
   "cell_type": "code",
   "execution_count": 60,
   "metadata": {
    "deletable": false,
    "nbgrader": {
     "checksum": "16305e8b3dbe5512261883e62ae4e3a8",
     "grade": false,
     "grade_id": "cell-571f59fab4ac61a1",
     "locked": false,
     "schema_version": 1,
     "solution": true
    }
   },
   "outputs": [],
   "source": [
    "v1= np.array([[1,3],[2,5]])\n",
    "\n",
    "eigen_vals = np.linalg.eigvals(v1)\n",
    "\n",
    "vals= eigen_vals\n",
    "\n",
    "\n",
    "\n",
    "\n",
    "#raise NotImplementedError()"
   ]
  },
  {
   "cell_type": "code",
   "execution_count": 61,
   "metadata": {
    "deletable": false,
    "editable": false,
    "nbgrader": {
     "checksum": "1f1b3a21fe59e3fcf5ee4d47c8a51431",
     "grade": true,
     "grade_id": "cell-174c290441138ebc",
     "locked": true,
     "points": 1,
     "schema_version": 1,
     "solution": false
    }
   },
   "outputs": [],
   "source": [
    "#hidden tests are within this cell"
   ]
  },
  {
   "cell_type": "markdown",
   "metadata": {},
   "source": [
    "<strong>2.2</strong> \\[1 pt\\] What is the eigenvectors of the matrix[[1,3],[2,5]]? Please store the eigenvectors in a variable called <strong>vecs</strong>. The datatype for vals should be an array.\n",
    "\n"
   ]
  },
  {
   "cell_type": "code",
   "execution_count": 62,
   "metadata": {
    "deletable": false,
    "nbgrader": {
     "checksum": "025bea56b5c4864d56246aa645d3ebbf",
     "grade": false,
     "grade_id": "cell-ae7fca74e80f42d3",
     "locked": false,
     "schema_version": 1,
     "solution": true
    }
   },
   "outputs": [],
   "source": [
    "eigenvalues, eigenvectors = np.linalg.eig(v1)\n",
    "\n",
    "vecs= eigenvectors\n",
    "\n",
    "\n",
    "\n",
    "\n",
    "\n",
    "\n",
    "#raise NotImplementedError()"
   ]
  },
  {
   "cell_type": "code",
   "execution_count": 63,
   "metadata": {
    "deletable": false,
    "editable": false,
    "nbgrader": {
     "checksum": "a41c9d87e26110d1f26c54d2f86b6590",
     "grade": true,
     "grade_id": "cell-c9c31cdf9a7b77ad",
     "locked": true,
     "points": 1,
     "schema_version": 1,
     "solution": false
    }
   },
   "outputs": [],
   "source": [
    "#hidden tests are within this cell"
   ]
  },
  {
   "cell_type": "markdown",
   "metadata": {
    "deletable": false,
    "editable": false,
    "nbgrader": {
     "checksum": "baa173f91504a40c93a7655ef9a905d3",
     "grade": false,
     "grade_id": "cell-9cd4e8d2f225fafd",
     "locked": true,
     "schema_version": 1,
     "solution": false
    }
   },
   "source": [
    "## Part 3: Composition \n"
   ]
  },
  {
   "cell_type": "markdown",
   "metadata": {
    "deletable": false,
    "editable": false,
    "nbgrader": {
     "checksum": "4a534735e6864a9b9aca96e035ee5b6a",
     "grade": false,
     "grade_id": "cell-f0196a1e1ab90e75",
     "locked": true,
     "schema_version": 1,
     "solution": false
    }
   },
   "source": [
    "<strong>3.1</strong> \\[1 pt\\] Assume f(x)= 3x+6 and g(y)= 2y+1, what is the reduced equation of h(x)=g * f(x)=g(f(x))? Store your answer in the variable <strong>compo</strong> as a string type."
   ]
  },
  {
   "cell_type": "code",
   "execution_count": 64,
   "metadata": {
    "deletable": false,
    "nbgrader": {
     "checksum": "216a61b0d4d2634928a988b3dd04004b",
     "grade": false,
     "grade_id": "cell-81395b5bd2a197fb",
     "locked": false,
     "schema_version": 1,
     "solution": true
    }
   },
   "outputs": [],
   "source": [
    "compo=\"6x + 13\"\n",
    "\n",
    "#raise NotImplementedError()"
   ]
  },
  {
   "cell_type": "code",
   "execution_count": 65,
   "metadata": {
    "deletable": false,
    "editable": false,
    "nbgrader": {
     "checksum": "07591bbcf46c9d82d277235fa59796eb",
     "grade": true,
     "grade_id": "cell-f797c1459bf93874",
     "locked": true,
     "points": 1,
     "schema_version": 1,
     "solution": false
    }
   },
   "outputs": [],
   "source": [
    "assert type(compo) == str, \"Problem 3.1, testing compo, type of value stored in variable does not match the expected type. Expecting String.\"\n"
   ]
  },
  {
   "cell_type": "markdown",
   "metadata": {
    "deletable": false,
    "editable": false,
    "nbgrader": {
     "checksum": "81500b9d6c2a6f4024c7bc2ced1d791f",
     "grade": false,
     "grade_id": "cell-96318587904ad09d",
     "locked": true,
     "schema_version": 1,
     "solution": false
    }
   },
   "source": [
    "<strong>3.2</strong> \\[1 pt\\] Given x = 1, use the equation assigned to compo to solve. Store your answer in the variable <strong>compo1</strong> as an integer. "
   ]
  },
  {
   "cell_type": "code",
   "execution_count": 66,
   "metadata": {
    "deletable": false,
    "nbgrader": {
     "checksum": "ecd82c5ea467a83ea08fb1821be447c1",
     "grade": false,
     "grade_id": "cell-beb471e3c613b1ec",
     "locked": false,
     "schema_version": 1,
     "solution": true
    }
   },
   "outputs": [],
   "source": [
    "compo1=19\n",
    "\n",
    "#raise NotImplementedError()"
   ]
  },
  {
   "cell_type": "code",
   "execution_count": 67,
   "metadata": {
    "deletable": false,
    "editable": false,
    "nbgrader": {
     "checksum": "9b100aa7c0b2bf84349d26f619e805fa",
     "grade": true,
     "grade_id": "cell-850259d8a0f763ca",
     "locked": true,
     "points": 1,
     "schema_version": 1,
     "solution": false
    }
   },
   "outputs": [],
   "source": [
    "assert type(compo1) == int, \"Problem 3.2, testing compo1, type of value stored in variable does not match the expected type. Expecting Integer.\""
   ]
  },
  {
   "cell_type": "markdown",
   "metadata": {
    "deletable": false,
    "editable": false,
    "nbgrader": {
     "checksum": "5fb7b535cdfead0c3954b5e5cd7b678a",
     "grade": false,
     "grade_id": "cell-10c31810a421b502",
     "locked": true,
     "schema_version": 1,
     "solution": false
    }
   },
   "source": [
    "## Part4: Linear Transformation "
   ]
  },
  {
   "cell_type": "markdown",
   "metadata": {
    "deletable": false,
    "editable": false,
    "nbgrader": {
     "checksum": "25a194f73675628a97397852441f28ab",
     "grade": false,
     "grade_id": "cell-05f210a9b65f0951",
     "locked": true,
     "schema_version": 1,
     "solution": false
    }
   },
   "source": [
    "<strong>4.1</strong> \\[1 pt\\] Assume we have an equation: x<sup>2</sup>yz/3+x$\\sqrt{y}$+</sup>z+3z =10, is this equation linear in the set of Xs? Store your answer - \"yes\" or \"no\" - in a variable called \"<strong>ANS41</strong>\"."
   ]
  },
  {
   "cell_type": "code",
   "execution_count": 68,
   "metadata": {
    "deletable": false,
    "nbgrader": {
     "checksum": "700143fae460ea5ad721f535983bfd21",
     "grade": false,
     "grade_id": "cell-7cd69aa0c7535f5d",
     "locked": false,
     "schema_version": 1,
     "solution": true
    }
   },
   "outputs": [],
   "source": [
    "ANS41=\"no\"\n",
    "\n",
    "#raise NotImplementedError()"
   ]
  },
  {
   "cell_type": "code",
   "execution_count": 69,
   "metadata": {
    "deletable": false,
    "editable": false,
    "nbgrader": {
     "checksum": "bda02b7f3d01b1da8a4d450895ec79eb",
     "grade": true,
     "grade_id": "cell-4e6661b95f6581b7",
     "locked": true,
     "points": 1,
     "schema_version": 1,
     "solution": false
    }
   },
   "outputs": [],
   "source": [
    "assert ANS41.strip().lower() == \"yes\" or \"no\", \"Problem 4.1, testing ANS41, value was not 'yes' or 'no'. Please choose 'yes' or 'no' as your answer.\""
   ]
  },
  {
   "cell_type": "markdown",
   "metadata": {
    "deletable": false,
    "editable": false,
    "nbgrader": {
     "checksum": "57d7821223a16ab7fd78e1680d37ba8a",
     "grade": false,
     "grade_id": "cell-9a50090028188c52",
     "locked": true,
     "schema_version": 1,
     "solution": false
    }
   },
   "source": [
    "<strong>4.2</strong> \\[1 pt\\] Assume we have an equation: x<sup>2</sup>yz/3+x$\\sqrt{y}$+</sup>z+3z =10, is this equation linear in the set of Ys? Store your answer - \"yes\" or \"no\" - in a variable called \"<strong>ANS42</strong>\"."
   ]
  },
  {
   "cell_type": "code",
   "execution_count": 71,
   "metadata": {
    "deletable": false,
    "nbgrader": {
     "checksum": "e0c11177955077324041b58924b90ea4",
     "grade": false,
     "grade_id": "cell-c2c8d3ec1cbf30a6",
     "locked": false,
     "schema_version": 1,
     "solution": true
    }
   },
   "outputs": [],
   "source": [
    "ANS42=\"no\"\n",
    "\n",
    "#raise NotImplementedError()"
   ]
  },
  {
   "cell_type": "code",
   "execution_count": 72,
   "metadata": {
    "deletable": false,
    "editable": false,
    "nbgrader": {
     "checksum": "1a7b4db011945b6b154f3327f10c69e2",
     "grade": true,
     "grade_id": "cell-489ae00da5e1b5e3",
     "locked": true,
     "points": 1,
     "schema_version": 1,
     "solution": false
    }
   },
   "outputs": [],
   "source": [
    "assert ANS42.strip().lower() == \"yes\" or \"no\", \"Problem 4.2, testing ANS42, value was not 'yes' or 'no'. Please choose 'yes' or 'no' as your answer.\""
   ]
  },
  {
   "cell_type": "markdown",
   "metadata": {
    "deletable": false,
    "editable": false,
    "nbgrader": {
     "checksum": "2329ee64daa94f365b3e25e77eb8bf06",
     "grade": false,
     "grade_id": "cell-0ed381962d96a0dc",
     "locked": true,
     "schema_version": 1,
     "solution": false
    }
   },
   "source": [
    "<strong>4.3</strong> \\[1 pt\\] Assume we have an equation: x<sup>2</sup>yz/3+x$\\sqrt{y}$+</sup>z+3z =10, is this equation linear in the set of Zs? Store your answer - \"yes\" or \"no\" - in a variable called \"<strong>ANS43</strong>\"."
   ]
  },
  {
   "cell_type": "code",
   "execution_count": 74,
   "metadata": {
    "deletable": false,
    "nbgrader": {
     "checksum": "3c3dd7183a73d6a96658a7ea28d3f033",
     "grade": false,
     "grade_id": "cell-b08ce396e53230a1",
     "locked": false,
     "schema_version": 1,
     "solution": true
    }
   },
   "outputs": [],
   "source": [
    "ANS43=\"yes\"\n",
    "\n",
    "#raise NotImplementedError()"
   ]
  },
  {
   "cell_type": "code",
   "execution_count": null,
   "metadata": {
    "deletable": false,
    "editable": false,
    "nbgrader": {
     "checksum": "885d2a94de7f4d746ea1fb110682405f",
     "grade": true,
     "grade_id": "cell-a1b171de5ffbdd5c",
     "locked": true,
     "points": 1,
     "schema_version": 1,
     "solution": false
    }
   },
   "outputs": [],
   "source": [
    "assert ANS43.strip().lower() == \"yes\" or \"no\", \"Problem 4.3, testing ANS43, value was not 'yes' or 'no'. Please choose 'yes' or 'no' as your answer.\""
   ]
  }
 ],
 "metadata": {
  "coursera": {
   "schema_names": [
    "mads_math_methods_for_data_science_assignment2"
   ]
  },
  "kernelspec": {
   "display_name": "Python 3",
   "language": "python",
   "name": "python3"
  },
  "language_info": {
   "codemirror_mode": {
    "name": "ipython",
    "version": 3
   },
   "file_extension": ".py",
   "mimetype": "text/x-python",
   "name": "python",
   "nbconvert_exporter": "python",
   "pygments_lexer": "ipython3",
   "version": "3.7.3"
  }
 },
 "nbformat": 4,
 "nbformat_minor": 2
}
