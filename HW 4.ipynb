{
 "cells": [
  {
   "cell_type": "markdown",
   "metadata": {
    "deletable": false,
    "editable": false,
    "nbgrader": {
     "checksum": "dccd9aceea53843afa69c470b0293c2f",
     "grade": false,
     "grade_id": "cell-cba503ee6ed424e1",
     "locked": true,
     "schema_version": 1,
     "solution": false
    }
   },
   "source": [
    "# SIDAS502: Math Methods for Data Science \n",
    "\n",
    "\n",
    "# School of Information, University of Michigan\n",
    "\n",
    "\n",
    "## Week4: Probability/Bayes Rule/Maximum likelihood \n",
    "\n",
    "### Version 1.3\n",
    "\n",
    "This assignment is designed to refresh probability skills as well as apply probability in the context of Bayes' Theorem, and maximum likelihood for linear and logistic regression. Please read the directions carefully, as we want to avoid submissions that are marked incorrect due to formatting mistakes. \n",
    "\n",
    "Include the following code at the beginning of your assignment:\n",
    "- from sklearn.model_selection import train_test_split\n",
    "- from sklearn.linear_model import LogisticRegression\n",
    "- from sklearn.metrics import classification_report, confusion_matrix\n",
    "- import pandas as pd\n",
    "- import numpy as np"
   ]
  },
  {
   "cell_type": "markdown",
   "metadata": {},
   "source": [
    "Plese enter your name =\"Aseem Sachdeva\""
   ]
  },
  {
   "cell_type": "code",
   "execution_count": 75,
   "metadata": {},
   "outputs": [],
   "source": [
    "from sklearn.model_selection import train_test_split\n",
    "from sklearn.linear_model import LogisticRegression\n",
    "from sklearn.metrics import classification_report, confusion_matrix\n",
    "import pandas as pd\n",
    "import numpy as np\n"
   ]
  },
  {
   "cell_type": "markdown",
   "metadata": {
    "deletable": false,
    "editable": false,
    "nbgrader": {
     "checksum": "a233d87c99ddb7a8325f1d0bdec5b3fc",
     "grade": false,
     "grade_id": "cell-e2388f80f2bfa35e",
     "locked": true,
     "schema_version": 1,
     "solution": false
    }
   },
   "source": [
    "## 1. Probability"
   ]
  },
  {
   "cell_type": "markdown",
   "metadata": {
    "deletable": false,
    "editable": false,
    "nbgrader": {
     "checksum": "aeb6d71d7ee696f9bd50da429e48cfaf",
     "grade": false,
     "grade_id": "cell-cbdb2f38375ebce9",
     "locked": true,
     "schema_version": 1,
     "solution": false
    }
   },
   "source": [
    "<strong>1.1</strong> \\[1 pt\\] A college is looking to form a team of 8 to participate in a coding compeition. The team needs at least 2 females and 2 males. If there are 4 males and 7 females who want to join the competition, how many different ways can the team be formed? Please store your answer as a python int (number only, e.g. ANS1=1) into a variable <strong>ANS1</strong>."
   ]
  },
  {
   "cell_type": "code",
   "execution_count": 76,
   "metadata": {
    "deletable": false,
    "nbgrader": {
     "checksum": "6459ca70bc3bd2d422bd0c459a0eab85",
     "grade": false,
     "grade_id": "cell-ee2bd7ab2781aa26",
     "locked": false,
     "schema_version": 1,
     "solution": true
    },
    "pycharm": {
     "is_executing": false
    }
   },
   "outputs": [],
   "source": [
    "import math\n",
    "from itertools import combinations\n",
    "#arr = ['male', 'male', 'male', 'male', 'female', 'female', 'female', 'female', 'female', 'female', 'female']\n",
    "#r = 8\n",
    "\n",
    "#x_list = list(combinations(arr,8))\n",
    "\n",
    "\n",
    "\n",
    "#valid = [i for i in x_list if i.count('male') >= 2 and i.count('female') >= 2 ]\n",
    "\n",
    "#print(len(x_list))\n",
    "\n",
    "#print(len(valid))\n",
    "\n",
    "ANS1= 161\n",
    "# YOUR CODE HERE\n",
    "#raise NotImplementedError()"
   ]
  },
  {
   "cell_type": "code",
   "execution_count": 77,
   "metadata": {
    "deletable": false,
    "editable": false,
    "nbgrader": {
     "checksum": "825c48e8b66d85112a883aee1ebb7def",
     "grade": true,
     "grade_id": "cell-2380314f88f56d22",
     "locked": true,
     "points": 1,
     "schema_version": 1,
     "solution": false
    }
   },
   "outputs": [],
   "source": [
    "assert type(ANS1) == int, \"Problem 1.1, testing ANS1, type of value stored in variable does not match the expected type. Expecting Integer\""
   ]
  },
  {
   "cell_type": "markdown",
   "metadata": {
    "deletable": false,
    "editable": false,
    "nbgrader": {
     "checksum": "d2010e5da278cd5e119a797f9b8cd6e6",
     "grade": false,
     "grade_id": "cell-60e86babc0baaefd",
     "locked": true,
     "schema_version": 1,
     "solution": false
    }
   },
   "source": [
    "## 2. Conditional Probability"
   ]
  },
  {
   "cell_type": "markdown",
   "metadata": {
    "deletable": false,
    "editable": false,
    "nbgrader": {
     "checksum": "86d36e531aaba4895016a5c875214c9d",
     "grade": false,
     "grade_id": "cell-64709019ea754f4d",
     "locked": true,
     "schema_version": 1,
     "solution": false
    }
   },
   "source": [
    "At a school, 40% of the students speak Spanish, 25% of the students speak German, and 15% of the students speak both of the langugues. Now, randomly pick a student. \n",
    "\n",
    "<strong>2.1</strong> \\[1 pt\\] Given that they speak Spanish, what is the probability that they also speak German? Store answer in variable <strong>ANS21</strong> (eg: ANS2a= 0.111)."
   ]
  },
  {
   "cell_type": "code",
   "execution_count": 78,
   "metadata": {
    "deletable": false,
    "nbgrader": {
     "checksum": "8ad6aec386bc07aebe54d9ffbe59787c",
     "grade": false,
     "grade_id": "cell-8566435eee91457e",
     "locked": false,
     "schema_version": 1,
     "solution": true
    }
   },
   "outputs": [],
   "source": [
    "#pB = 0.40\n",
    "#pAB=0.15\n",
    "\n",
    "#pAifB = pAB / pB\n",
    "#print(pAifB)\n",
    "\n",
    "\n",
    "\n",
    "\n",
    "ANS21 = 0.37499999999999994\n",
    "# YOUR CODE HERE\n",
    "#raise NotImplementedError()"
   ]
  },
  {
   "cell_type": "code",
   "execution_count": 79,
   "metadata": {
    "deletable": false,
    "editable": false,
    "nbgrader": {
     "checksum": "d66c6d66ff926836c092ee014507ccbb",
     "grade": true,
     "grade_id": "cell-557a697b7229071a",
     "locked": true,
     "points": 1,
     "schema_version": 1,
     "solution": false
    }
   },
   "outputs": [],
   "source": [
    "assert type(ANS21) == float, \"Problem 2.1, testing ANS21, type of value stored in variable does not match the expected type. Expecting Float.\""
   ]
  },
  {
   "cell_type": "markdown",
   "metadata": {
    "deletable": false,
    "editable": false,
    "nbgrader": {
     "checksum": "fcc6c8ed92c64dbfac4ea9b34ce42f68",
     "grade": false,
     "grade_id": "cell-dee377764f1c9eb2",
     "locked": true,
     "schema_version": 1,
     "solution": false
    }
   },
   "source": [
    "<strong>2.2</strong> \\[1 pt\\] Given that they do not speak German, what is the probability that they speak Spanish? Store answer in variable <strong>ANS22</strong> (eg: ANS2a= 0.11). Please round your answer to the hundredths place (ex. ANS22 = 0.11)."
   ]
  },
  {
   "cell_type": "code",
   "execution_count": 120,
   "metadata": {
    "deletable": false,
    "nbgrader": {
     "checksum": "5462629b7f657a967ef01589ddef6610",
     "grade": false,
     "grade_id": "cell-d8a6247556748dcc",
     "locked": false,
     "schema_version": 1,
     "solution": true
    },
    "pycharm": {
     "is_executing": false
    }
   },
   "outputs": [],
   "source": [
    "#P(ppl speaking only Spanish and not German) / P(ppl not speaking German\n",
    "\n",
    "\n",
    "\n",
    "\n",
    "ANS22=0.33\n",
    "# YOUR CODE HERE\n",
    "#raise NotImplementedError()"
   ]
  },
  {
   "cell_type": "code",
   "execution_count": 121,
   "metadata": {
    "deletable": false,
    "editable": false,
    "nbgrader": {
     "checksum": "fb280ea94864503099a6fb09a9159aaa",
     "grade": true,
     "grade_id": "cell-0c3c06d832ee2f42",
     "locked": true,
     "points": 1,
     "schema_version": 1,
     "solution": false
    },
    "pycharm": {
     "is_executing": false
    }
   },
   "outputs": [],
   "source": [
    "assert type(ANS22) == float, \"Problem 2.2, testing ANS22, type of value stored in variable does not match the expected type. Expecting Float.\""
   ]
  },
  {
   "cell_type": "markdown",
   "metadata": {
    "deletable": false,
    "editable": false,
    "nbgrader": {
     "checksum": "62717298c5150a9af5ab46494bf5705a",
     "grade": false,
     "grade_id": "cell-59bcfa438bc13995",
     "locked": true,
     "schema_version": 1,
     "solution": false
    }
   },
   "source": [
    "## 3. Independent Probability "
   ]
  },
  {
   "cell_type": "markdown",
   "metadata": {
    "deletable": false,
    "editable": false,
    "nbgrader": {
     "checksum": "41736bd7340d3f4957fa378a83845524",
     "grade": false,
     "grade_id": "cell-dd385e7b09d20bde",
     "locked": true,
     "schema_version": 1,
     "solution": false
    }
   },
   "source": [
    "Tom and Lily are trying to solve a problem. The probability of Tom successfully solving the problem is 0.4 and the probability of Lily successfully solving the problem is 0.5. They do not influence each other when they are solving the problem. For each solution, only store the value of probability rounded to the tenth place (ex. ANS = 0.7).\n",
    "\n",
    "<strong>3.1</strong> \\[1 pt\\] What is the probability that both of them sucessfully solve the problem? Please store your answer (number only) to a variable <strong>ANS31</strong>."
   ]
  },
  {
   "cell_type": "code",
   "execution_count": 82,
   "metadata": {
    "deletable": false,
    "nbgrader": {
     "checksum": "8f1edea9d859df22fb5d69298d91c28a",
     "grade": false,
     "grade_id": "cell-a89dfc965132afad",
     "locked": false,
     "schema_version": 1,
     "solution": true
    }
   },
   "outputs": [],
   "source": [
    "#p_tom = 0.4\n",
    "#p_lilly = 0.5\n",
    "\n",
    "#p_tom_and_lilly = p_tom*p_lilly\n",
    "\n",
    "#print(p_tom_and_lilly)\n",
    "\n",
    "\n",
    "ANS31 = 0.20\n",
    "# YOUR CODE HERE\n",
    "#raise NotImplementedError()"
   ]
  },
  {
   "cell_type": "code",
   "execution_count": 83,
   "metadata": {
    "deletable": false,
    "editable": false,
    "nbgrader": {
     "checksum": "58ff39c1d3300338d828dc76dff38a02",
     "grade": true,
     "grade_id": "cell-4d4bf277ef89e5a1",
     "locked": true,
     "points": 1,
     "schema_version": 1,
     "solution": false
    }
   },
   "outputs": [],
   "source": [
    "assert type(ANS31) == float, \"Problem 3.1, testing ANS31, type of value stored in variable does not match the expected type. Expecting Float.\""
   ]
  },
  {
   "cell_type": "markdown",
   "metadata": {
    "deletable": false,
    "editable": false,
    "nbgrader": {
     "checksum": "b2749344bc1616f4a2ce8c08dad85dcb",
     "grade": false,
     "grade_id": "cell-71bb140cdec6a3a6",
     "locked": true,
     "schema_version": 1,
     "solution": false
    }
   },
   "source": [
    "<strong>3.2</strong> \\[1 pt\\] What is the probability that only one of them successfully solves the problem? Please store your answer (number only) to a variable <strong>ANS32</strong>. "
   ]
  },
  {
   "cell_type": "code",
   "execution_count": 84,
   "metadata": {
    "deletable": false,
    "nbgrader": {
     "checksum": "7762a760700f3a291757b8704d6ce41c",
     "grade": false,
     "grade_id": "cell-e55df99dc649e767",
     "locked": false,
     "schema_version": 1,
     "solution": true
    }
   },
   "outputs": [],
   "source": [
    "#p_tom = 0.4\n",
    "#p_lilly = 0.5\n",
    "#p_tom_and_lilly = 0.20\n",
    "\n",
    "#p_only_one = p_tom + p_lilly-(2*p_tom_and_lilly)\n",
    "\n",
    "#print(p_only_one)\n",
    "\n",
    "ANS32=0.5\n",
    "# YOUR CODE HERE\n",
    "#raise NotImplementedError()"
   ]
  },
  {
   "cell_type": "code",
   "execution_count": 85,
   "metadata": {
    "deletable": false,
    "editable": false,
    "nbgrader": {
     "checksum": "79dabcbd83845bd216dd3387aa57b65f",
     "grade": true,
     "grade_id": "cell-04bf980d4b26a9f0",
     "locked": true,
     "points": 1,
     "schema_version": 1,
     "solution": false
    }
   },
   "outputs": [],
   "source": [
    "assert type(ANS32) == float, \"Problem 3.2, testing ANS32, type of value stored in variable does not match the expected type. Expecting Float.\""
   ]
  },
  {
   "cell_type": "markdown",
   "metadata": {
    "deletable": false,
    "editable": false,
    "nbgrader": {
     "checksum": "62e0808f339ce0c403d18303f6f50dfd",
     "grade": false,
     "grade_id": "cell-2a79ba0a2e386a2d",
     "locked": true,
     "schema_version": 1,
     "solution": false
    }
   },
   "source": [
    "<strong>3.3</strong> \\[1 pt\\] Given that **only** one of them successfully solved the problem, what is the probability that the person is Tom?\n",
    "Please store your answer (number only) to a variable <strong>ANS33</strong>. "
   ]
  },
  {
   "cell_type": "code",
   "execution_count": 86,
   "metadata": {
    "deletable": false,
    "nbgrader": {
     "checksum": "c40dbd165a8b611df4918711290eddfe",
     "grade": false,
     "grade_id": "cell-9cd919f33acab2ef",
     "locked": false,
     "schema_version": 1,
     "solution": true
    }
   },
   "outputs": [],
   "source": [
    "#p1⋅(1−p2)+p2(1−p1)=p1+p2−2p1p2.\n",
    "#p1⋅(1−p2)\n",
    "\n",
    "#p1 = 0.4\n",
    "#p2 = 0.5\n",
    "\n",
    "#test = p1*(1-p2)\n",
    "\n",
    "#print(test)\n",
    "\n",
    "###Above code would be for general case. Since these are independent events, answer is just the probability of Tom's event\n",
    "\n",
    "\n",
    "\n",
    "ANS33 = 0.4\n",
    "# YOUR CODE HERE\n",
    "#raise NotImplementedError()"
   ]
  },
  {
   "cell_type": "code",
   "execution_count": 87,
   "metadata": {
    "deletable": false,
    "editable": false,
    "nbgrader": {
     "checksum": "cf70fb68f80c3fcf12c26724e37fa45b",
     "grade": true,
     "grade_id": "cell-9beab75a7dab793d",
     "locked": true,
     "points": 1,
     "schema_version": 1,
     "solution": false
    }
   },
   "outputs": [],
   "source": [
    "assert type(ANS33) == float, \"Problem 3.3, testing ANS33, type of value stored in variable does not match the expected type. Expecting Float.\""
   ]
  },
  {
   "cell_type": "markdown",
   "metadata": {
    "deletable": false,
    "editable": false,
    "nbgrader": {
     "checksum": "21719e1c94c34b9306bc49acfb9957bd",
     "grade": false,
     "grade_id": "cell-d6fec34d29792320",
     "locked": true,
     "schema_version": 1,
     "solution": false
    }
   },
   "source": [
    "## 4. Bayes Rule"
   ]
  },
  {
   "cell_type": "markdown",
   "metadata": {
    "deletable": false,
    "editable": false,
    "nbgrader": {
     "checksum": "32b95fec80edee89973b58e22bd0006b",
     "grade": false,
     "grade_id": "cell-3f3407378ca208c3",
     "locked": true,
     "schema_version": 1,
     "solution": false
    }
   },
   "source": [
    "Suppose that you are an art dealer for Van Gogh paintings. Whenever someone brings in a painting that they claim is from Van Gogh, you send in the painting for pigment analysis. Pigment analysis successfully identifies 90% of Van Gogh paintings and falsely identifies 20% of forgeries as being from Van Gogh. In your experience, 99% of the paintings that people bring to you are forgeries.\n",
    "\n",
    "<strong>4.1</strong> \\[1 pt\\] Use Bayes theorem to calculate the chance that a painting is from Van Gogh if the pigment analysis finds that it is from Van Gogh. Store your answer in variable <strong>ANS41</strong> as a float (round your answer to the thousandths place, e.g. ANS41=0.111)."
   ]
  },
  {
   "cell_type": "code",
   "execution_count": 88,
   "metadata": {
    "deletable": false,
    "nbgrader": {
     "checksum": "193b6d613cb76513b01a3c92202ba7cf",
     "grade": false,
     "grade_id": "cell-f68142d6a4ebf595",
     "locked": false,
     "schema_version": 1,
     "solution": true
    }
   },
   "outputs": [],
   "source": [
    "#P(A|B) = (P(B|A)*PA)/P(B)\n",
    "\n",
    "\n",
    "ANS41 = 0.043\n",
    "# YOUR CODE HERE\n",
    "#raise NotImplementedError()\n",
    "#print(type(ANS41))"
   ]
  },
  {
   "cell_type": "code",
   "execution_count": 89,
   "metadata": {
    "deletable": false,
    "editable": false,
    "nbgrader": {
     "checksum": "ef46a6bd7f3c78902a4862878b5a5d0c",
     "grade": true,
     "grade_id": "cell-c32efd59d0bc94f7",
     "locked": true,
     "points": 1,
     "schema_version": 1,
     "solution": false
    }
   },
   "outputs": [],
   "source": [
    "assert type(ANS41) == float, \"Problem 4.1, testing ANS41, type of value stored in variable does not match the expected type. Expecting Float.\""
   ]
  },
  {
   "cell_type": "markdown",
   "metadata": {
    "deletable": false,
    "editable": false,
    "nbgrader": {
     "checksum": "b83a820e57bbd4763e1020a255e690b4",
     "grade": false,
     "grade_id": "cell-7c6827c647ad8a8d",
     "locked": true,
     "schema_version": 1,
     "solution": false
    }
   },
   "source": [
    "## 5. Maximum Likelihood in Linear Regression"
   ]
  },
  {
   "cell_type": "markdown",
   "metadata": {
    "deletable": false,
    "editable": false,
    "hideOutput": true,
    "nbgrader": {
     "checksum": "ade7d359b3b3f97236b1aba3206038b5",
     "grade": false,
     "grade_id": "cell-388a8b8a575b11cc",
     "locked": true,
     "schema_version": 1,
     "solution": false
    }
   },
   "source": [
    "Let's say we have serveral data points: (2, 4.5, 8), and we know they are from a normal (Gaussian) distribution. "
   ]
  },
  {
   "cell_type": "markdown",
   "metadata": {
    "deletable": false,
    "editable": false,
    "nbgrader": {
     "checksum": "e7718b7564d286359bc9720041fb8ed1",
     "grade": false,
     "grade_id": "cell-a09180072e03ee93",
     "locked": true,
     "schema_version": 1,
     "solution": false
    }
   },
   "source": [
    "<strong>5.1</strong> \\[1 pt\\] Let's start by assuming some values for mu and sigma. What is the likelihood of guess1: N(mu=4.5,sigma=4)? Store your answer in variable <strong>ANS51</strong> as a float (round your answer to the hundred-thousandths place, e.g.: ANS51 = 0.11111)."
   ]
  },
  {
   "cell_type": "code",
   "execution_count": 90,
   "metadata": {},
   "outputs": [],
   "source": [
    "import numpy as np\n",
    "from scipy.stats import norm"
   ]
  },
  {
   "cell_type": "code",
   "execution_count": 91,
   "metadata": {
    "deletable": false,
    "nbgrader": {
     "checksum": "b005774cd38026888f1a8d25ce0e117d",
     "grade": false,
     "grade_id": "cell-47ee94371a9ccbf0",
     "locked": false,
     "schema_version": 1,
     "solution": true
    }
   },
   "outputs": [
    {
     "name": "stdout",
     "output_type": "stream",
     "text": [
      "0.00056\n"
     ]
    }
   ],
   "source": [
    "\n",
    "likelihood = norm.pdf(2, 4.5, 4)*norm.pdf(4.5, 4.5, 4)*norm.pdf(8, 4.5, 4)\n",
    "\n",
    "\n",
    "likelihood = round(likelihood, 5)\n",
    "\n",
    "\n",
    "print(likelihood)\n",
    "ANS51= likelihood\n",
    "\n",
    "# YOUR CODE HERE\n",
    "#raise NotImplementedError()"
   ]
  },
  {
   "cell_type": "code",
   "execution_count": 92,
   "metadata": {
    "deletable": false,
    "editable": false,
    "nbgrader": {
     "checksum": "b4e16247c9f65410c452b3f9b17401bc",
     "grade": true,
     "grade_id": "cell-2cd5d1e205fb8721",
     "locked": true,
     "points": 1,
     "schema_version": 1,
     "solution": false
    }
   },
   "outputs": [],
   "source": [
    "assert type(ANS51) == np.float64, \"Problem 5.1, testing ANS51, type of value stored in variable does not match the expected type. Expecting a numpy float.\""
   ]
  },
  {
   "cell_type": "markdown",
   "metadata": {
    "deletable": false,
    "editable": false,
    "nbgrader": {
     "checksum": "ad0670940f81ddfe08ca7e47e95496af",
     "grade": false,
     "grade_id": "cell-565c9ad77aa77644",
     "locked": true,
     "schema_version": 1,
     "solution": false
    }
   },
   "source": [
    "<strong>5.2</strong> \\[1 pt\\] Let's change our assumptions regarding the values of mu and sigma. What is the likelihood of guess2: N(mu=6,sigma=8)? Store your answer in variable <strong>ANS52</strong> as a float (round your answer to the hundred-thousandths place, e.g.: ANS52 = 0.11111)."
   ]
  },
  {
   "cell_type": "code",
   "execution_count": 93,
   "metadata": {
    "deletable": false,
    "nbgrader": {
     "checksum": "3b14525b304e3eff3bdad42570a174d9",
     "grade": false,
     "grade_id": "cell-b45ebef5ff62d42b",
     "locked": false,
     "schema_version": 1,
     "solution": true
    }
   },
   "outputs": [
    {
     "name": "stdout",
     "output_type": "stream",
     "text": [
      "0.0001\n"
     ]
    }
   ],
   "source": [
    "\n",
    "likelihood = norm.pdf(2, 6, 8)*norm.pdf(4.5, 6, 8)*norm.pdf(8, 6, 8)\n",
    "\n",
    "\n",
    "likelihood = round(likelihood, 5)\n",
    "\n",
    "\n",
    "print(likelihood)\n",
    "\n",
    "\n",
    "\n",
    "ANS52 = likelihood \n",
    "# YOUR CODE HERE\n",
    "#raise NotImplementedError()"
   ]
  },
  {
   "cell_type": "code",
   "execution_count": 94,
   "metadata": {
    "deletable": false,
    "editable": false,
    "nbgrader": {
     "checksum": "9db37ddbc3cdc718d0e1333d1d0dc5c9",
     "grade": true,
     "grade_id": "cell-838756d8041f9a38",
     "locked": true,
     "points": 1,
     "schema_version": 1,
     "solution": false
    }
   },
   "outputs": [],
   "source": [
    "assert type(ANS52) == np.float64, \"Problem 5.2, testing ANS52, type of value stored in variable does not match the expected type. Expecting a numpy float.\""
   ]
  },
  {
   "cell_type": "markdown",
   "metadata": {
    "deletable": false,
    "editable": false,
    "nbgrader": {
     "checksum": "bdace826de041e9560478a28415ab5a0",
     "grade": false,
     "grade_id": "cell-651fde2ac8983bac",
     "locked": true,
     "schema_version": 1,
     "solution": false
    }
   },
   "source": [
    "<strong>5.3</strong> \\[1 pt\\] Which are the more likely estimates? Store your answer as either \"guess1\" or \"guess2\" into a variable called <strong>ANS53</strong>."
   ]
  },
  {
   "cell_type": "code",
   "execution_count": 95,
   "metadata": {
    "deletable": false,
    "nbgrader": {
     "checksum": "e52440fe8b4eb4adf23426f1b04df0b7",
     "grade": false,
     "grade_id": "cell-2f23f3d7afd2148f",
     "locked": false,
     "schema_version": 1,
     "solution": true
    }
   },
   "outputs": [],
   "source": [
    "ANS53 = \"guess 1\"\n",
    "# YOUR CODE HERE\n",
    "#raise NotImplementedError()"
   ]
  },
  {
   "cell_type": "code",
   "execution_count": 96,
   "metadata": {
    "deletable": false,
    "editable": false,
    "nbgrader": {
     "checksum": "56621c3ac8586cfbf2e3f602b066c688",
     "grade": true,
     "grade_id": "cell-4d3946df1270c598",
     "locked": true,
     "points": 1,
     "schema_version": 1,
     "solution": false
    }
   },
   "outputs": [],
   "source": [
    "assert ((ANS53.strip().replace(\" \", \"\").lower() == \"guess1\") or (ANS53.strip().replace(\" \", \"\").lower() ==\"guess2\")), \"Problem 5.3, testing ANS53, value was not 'guess1' or 'guess2'. Please choose 'guess1' or 'guess2' as your answer.\""
   ]
  },
  {
   "cell_type": "markdown",
   "metadata": {
    "deletable": false,
    "editable": false,
    "nbgrader": {
     "checksum": "53d5ace9ec06a007840615d9694dd422",
     "grade": false,
     "grade_id": "cell-49182dff977436fb",
     "locked": true,
     "schema_version": 1,
     "solution": false
    }
   },
   "source": [
    "## 6. Likelihood calculation based on a line"
   ]
  },
  {
   "cell_type": "markdown",
   "metadata": {
    "deletable": false,
    "editable": false,
    "nbgrader": {
     "checksum": "360006ef00ec43e1c971039eb4eb9f83",
     "grade": false,
     "grade_id": "cell-e7778891ad271e61",
     "locked": true,
     "schema_version": 1,
     "solution": false
    }
   },
   "source": [
    "We have calculated probability of wins and losses for some logistic regression line. Here are those probabilities: \n",
    "- <b>P(win):</b> 0.52, 0.76, 0.89, 0.91, 0.95, 0.95, 0.98, 0.98\n",
    "- <b>P(loss):</b> 0.08, 0.08, 0.08, 0.15, 0.2, 0.25, 0.6, 0.7\n"
   ]
  },
  {
   "cell_type": "markdown",
   "metadata": {
    "deletable": false,
    "editable": false,
    "nbgrader": {
     "checksum": "dc9ad7354aa514817787a825e2960a5e",
     "grade": false,
     "grade_id": "cell-be5fbca673331f43",
     "locked": true,
     "schema_version": 1,
     "solution": false
    }
   },
   "source": [
    "<strong>6.1</strong> \\[1 pt\\] What is the <strong>likelihood</strong> of the line given the data (you do not need the line nor the data - only the resulting probabilities). Please store your answer into <strong>ANS61</strong>. (Round your answer to the thousandths place) "
   ]
  },
  {
   "cell_type": "code",
   "execution_count": 104,
   "metadata": {
    "deletable": false,
    "nbgrader": {
     "checksum": "89e7494aa31f9db861af69659efd747d",
     "grade": false,
     "grade_id": "cell-de79d768892ac937",
     "locked": false,
     "schema_version": 1,
     "solution": true
    }
   },
   "outputs": [
    {
     "name": "stdout",
     "output_type": "stream",
     "text": [
      "0.013\n"
     ]
    }
   ],
   "source": [
    "likelihood = 0.52*0.76*0.89*0.91*0.95*0.95*0.98*0.98*(1-0.08)*(1-0.08)*(1-0.08)*(1-0.15)*(1-0.20)*(1-0.25)*(1-0.60)*(1-0.70)\n",
    "\n",
    "\n",
    "likelihood = round(likelihood, 3)\n",
    "print(likelihood)\n",
    "\n",
    "ANS61=likelihood\n",
    "# YOUR CODE HERE\n",
    "#raise NotImplementedError()"
   ]
  },
  {
   "cell_type": "code",
   "execution_count": 105,
   "metadata": {
    "deletable": false,
    "editable": false,
    "nbgrader": {
     "checksum": "428bc87e41a7d2900d5b457a553b0b1b",
     "grade": true,
     "grade_id": "cell-4261db1e18760504",
     "locked": true,
     "points": 1,
     "schema_version": 1,
     "solution": false
    }
   },
   "outputs": [],
   "source": [
    "assert type(ANS61) == float, \"Problem 6.1, testing ANS61, type of value stored in variable does not match the expected type. Expecting Float.\"\n",
    "assert (ANS61 < 0.00001) == False, \"Problem 6.1, testing ANS61, your value is smaller than expected. Did you account for wins/losses?\""
   ]
  },
  {
   "cell_type": "markdown",
   "metadata": {
    "deletable": false,
    "editable": false,
    "nbgrader": {
     "checksum": "3f2b6b8d5d166106732cb5fdc903d9c1",
     "grade": false,
     "grade_id": "cell-fc79a3c1bbd175a4",
     "locked": true,
     "schema_version": 1,
     "solution": false
    }
   },
   "source": [
    "<strong>6.2</strong> \\[1 pt\\] What is the <strong>log likelihood</strong> (ln) of the line given the data? Please store your answer into <strong>ANS62</strong> as a float (rounding to the thousandths place, e.g. 1.001)."
   ]
  },
  {
   "cell_type": "code",
   "execution_count": 116,
   "metadata": {
    "deletable": false,
    "nbgrader": {
     "checksum": "0dbba7a30477ca2f93a568964899ce2d",
     "grade": false,
     "grade_id": "cell-da056b4724593d40",
     "locked": false,
     "schema_version": 1,
     "solution": true
    }
   },
   "outputs": [
    {
     "name": "stdout",
     "output_type": "stream",
     "text": [
      "-4.326\n"
     ]
    }
   ],
   "source": [
    "likelihood = np.log(0.52*0.76*0.89*0.91*0.95*0.95*0.98*0.98*(1-0.08)*(1-0.08)*(1-0.08)*(1-0.15)*(1-0.20)*(1-0.25)*(1-0.60)*(1-0.70))\n",
    "\n",
    "\n",
    "likelihood = round(likelihood, 3)\n",
    "\n",
    "likelihood.astype(float)\n",
    "\n",
    "print(likelihood)\n",
    "\n",
    "\n",
    "ANS62 = -4.326\n",
    "\n",
    "#raise NotImplementedError()"
   ]
  },
  {
   "cell_type": "code",
   "execution_count": 117,
   "metadata": {
    "deletable": false,
    "editable": false,
    "nbgrader": {
     "checksum": "ea3167ce2fcb0fc35e4e2c954700c25b",
     "grade": true,
     "grade_id": "cell-06fbfe53174dfc2d",
     "locked": true,
     "points": 1,
     "schema_version": 1,
     "solution": false
    }
   },
   "outputs": [],
   "source": [
    "assert type(ANS62) == float, \"Problem 6.2, testing ANS62, type of value stored in variable does not match the expected type. Expecting Float.\"\n",
    "assert (ANS62 > 2) == False, \"Problem 6.2, testing ANS62, value is larger than expected. Which log did you use (log10 or ln)? Which are you supposed to use?\"\n",
    "assert (ANS62 < -4.5) == False, \"Problem 6.2, testing ANS62, value is smaller than expected. Check your math. Did you account for wins/losses?\""
   ]
  },
  {
   "cell_type": "markdown",
   "metadata": {
    "deletable": false,
    "editable": false,
    "nbgrader": {
     "checksum": "3662cb80c0f28c90730809637ae3e7de",
     "grade": false,
     "grade_id": "cell-8d6e1a0334ec8551",
     "locked": true,
     "schema_version": 1,
     "solution": false
    }
   },
   "source": [
    "Sources:\n",
    "<ul>\n",
    "<li>https://www.kaggle.com/mashimo/a-very-simple-logistic-regression-model</li>\n",
    "<li>https://pbpython.com/categorical-encoding.html</li>\n",
    "<li>https://www.kaggle.com/chethan187/classification-model-using-logistic-regression</li>\n",
    "</ul>"
   ]
  }
 ],
 "metadata": {
  "coursera": {
   "schema_names": [
    "mads_math_methods_for_data_science_assignment4"
   ]
  },
  "kernelspec": {
   "display_name": "Python 3",
   "language": "python",
   "name": "python3"
  },
  "language_info": {
   "codemirror_mode": {
    "name": "ipython",
    "version": 3
   },
   "file_extension": ".py",
   "mimetype": "text/x-python",
   "name": "python",
   "nbconvert_exporter": "python",
   "pygments_lexer": "ipython3",
   "version": "3.7.3"
  },
  "pycharm": {
   "stem_cell": {
    "cell_type": "raw",
    "metadata": {
     "collapsed": false
    },
    "source": []
   }
  }
 },
 "nbformat": 4,
 "nbformat_minor": 2
}
